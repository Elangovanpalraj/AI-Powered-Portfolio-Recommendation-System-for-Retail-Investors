{
 "cells": [
  {
   "cell_type": "code",
   "execution_count": 5,
   "id": "d960ecf9-f91a-4738-9bec-dc9895f1cbf7",
   "metadata": {},
   "outputs": [
    {
     "name": "stdout",
     "output_type": "stream",
     "text": [
      "🔍 Test Accuracy (R2 Score): -16.5300\n",
      "📉 Mean Squared Error: 0.0000\n",
      "\n",
      "✅ New User Input Prediction\n",
      "📊 Predicted Diversification:\n",
      "   Equity:       0.40\n",
      "   Bonds:        0.25\n",
      "   FD:           0.15\n",
      "   Real Estate:  0.10\n"
     ]
    },
    {
     "name": "stderr",
     "output_type": "stream",
     "text": [
      "C:\\Users\\User\\AppData\\Local\\Programs\\Python\\Python310\\lib\\site-packages\\sklearn\\utils\\validation.py:2739: UserWarning: X does not have valid feature names, but RandomForestRegressor was fitted with feature names\n",
      "  warnings.warn(\n"
     ]
    }
   ],
   "source": [
    "import pandas as pd\n",
    "import numpy as np\n",
    "import ast\n",
    "from sklearn.model_selection import train_test_split\n",
    "from sklearn.ensemble import RandomForestRegressor\n",
    "from sklearn.preprocessing import LabelEncoder\n",
    "from sklearn.metrics import mean_squared_error, r2_score\n",
    "import joblib\n",
    "\n",
    "# Load and preprocess dataset\n",
    "df = pd.read_csv(\"investment_dataset.csv\")\n",
    "df['Diversification'] = df['Diversification'].apply(ast.literal_eval)\n",
    "div_df = pd.json_normalize(df['Diversification'])\n",
    "df = pd.concat([df.drop('Diversification', axis=1), div_df], axis=1)\n",
    "\n",
    "# Label encode 'Risk'\n",
    "le = LabelEncoder()\n",
    "df['Risk'] = le.fit_transform(df['Risk'])  # Save label mapping\n",
    "risk_mapping = dict(zip(le.classes_, le.transform(le.classes_)))\n",
    "\n",
    "# Features and targets\n",
    "X = df[['Age', 'Salary_lpa', 'SIP', 'Risk']]\n",
    "y = df[['Equity', 'Bonds', 'FD', 'Real Estate']]\n",
    "\n",
    "# Train-test split\n",
    "X_train, X_test, y_train, y_test = train_test_split(X, y, test_size=0.2, random_state=42)\n",
    "\n",
    "# Train model\n",
    "model = RandomForestRegressor(n_estimators=100, random_state=42)\n",
    "model.fit(X_train, y_train)\n",
    "\n",
    "# Evaluate on test set\n",
    "y_pred = model.predict(X_test)\n",
    "r2 = r2_score(y_test, y_pred)\n",
    "mse = mean_squared_error(y_test, y_pred)\n",
    "\n",
    "print(f\"🔍 Test Accuracy (R2 Score): {r2:.4f}\")\n",
    "print(f\"📉 Mean Squared Error: {mse:.4f}\")\n",
    "\n",
    "# Save model and encoder\n",
    "joblib.dump(model, \"portfolio_model.pkl\")\n",
    "joblib.dump(le, \"risk_encoder.pkl\")\n",
    "\n",
    "# --- New User Input Prediction Section ---\n",
    "print(\"\\n✅ New User Input Prediction\")\n",
    "\n",
    "# Simulate external new user data (can be dynamic or from form)\n",
    "new_user = {\n",
    "    'Age': 45,\n",
    "    'Salary_lpa': 4.5,\n",
    "    'SIP': 800,\n",
    "    'Risk': 'Medium'  # Text input\n",
    "}\n",
    "\n",
    "# Preprocess user input\n",
    "risk_encoded = risk_mapping[new_user['Risk']]\n",
    "user_features = np.array([[new_user['Age'], new_user['Salary_lpa'], new_user['SIP'], risk_encoded]])\n",
    "\n",
    "# Predict using trained model\n",
    "model = joblib.load(\"portfolio_model.pkl\")\n",
    "predicted_div = model.predict(user_features)[0]\n",
    "\n",
    "# Output recommendation\n",
    "print(\"📊 Predicted Diversification:\")\n",
    "print(f\"   Equity:       {predicted_div[0]:.2f}\")\n",
    "print(f\"   Bonds:        {predicted_div[1]:.2f}\")\n",
    "print(f\"   FD:           {predicted_div[2]:.2f}\")\n",
    "print(f\"   Real Estate:  {predicted_div[3]:.2f}\")\n"
   ]
  },
  {
   "cell_type": "code",
   "execution_count": null,
   "id": "4cb7d28f-941e-46bb-ba2d-67f55cb3997d",
   "metadata": {},
   "outputs": [],
   "source": []
  }
 ],
 "metadata": {
  "kernelspec": {
   "display_name": "Python 3 (ipykernel)",
   "language": "python",
   "name": "python3"
  },
  "language_info": {
   "codemirror_mode": {
    "name": "ipython",
    "version": 3
   },
   "file_extension": ".py",
   "mimetype": "text/x-python",
   "name": "python",
   "nbconvert_exporter": "python",
   "pygments_lexer": "ipython3",
   "version": "3.10.10"
  }
 },
 "nbformat": 4,
 "nbformat_minor": 5
}
